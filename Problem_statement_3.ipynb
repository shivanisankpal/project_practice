{
 "cells": [
  {
   "cell_type": "markdown",
   "id": "29e13933",
   "metadata": {},
   "source": [
    "statement 1 : Fibonnaci series as a recursive function "
   ]
  },
  {
   "cell_type": "code",
   "execution_count": 3,
   "id": "20dfa615",
   "metadata": {},
   "outputs": [
    {
     "name": "stdout",
     "output_type": "stream",
     "text": [
      "Enter the number of terms yo want in Fibonacci Series : 5\n",
      "Fibonacci Sequence : \n",
      "0 1 1 2 3 "
     ]
    }
   ],
   "source": [
    "def fibonacci_series(n):   #Function declaration \n",
    "    if(n<=1):\n",
    "        return n\n",
    "    else:\n",
    "        return (fibonacci_series(n-1) + (fibonacci_series(n-2)))\n",
    "    \n",
    "n = int(input(\"Enter the number of terms yo want in Fibonacci Series : \"))   # Input from User \n",
    "print(\"Fibonacci Sequence : \")\n",
    "for i in range (n):               \n",
    "    print(fibonacci_series(i) , end=\" \")\n"
   ]
  },
  {
   "cell_type": "markdown",
   "id": "29e17e4c",
   "metadata": {},
   "source": [
    "Statement 2 : Python program to display the given integer in reverse manner.\n"
   ]
  },
  {
   "cell_type": "code",
   "execution_count": 25,
   "id": "55b8717a",
   "metadata": {},
   "outputs": [
    {
     "name": "stdout",
     "output_type": "stream",
     "text": [
      "Enter the number : 5678905\n",
      "Reversed Number: 5098765\n"
     ]
    }
   ],
   "source": [
    "num = int(input(\"Enter the number : \"))  #Taking original number as an input \n",
    "reverse_num = 0   # Set reversed number initially at 0\n",
    "\n",
    "while num > 0:    \n",
    "    a = num % 10   # For getting remainder\n",
    "    reverse_num = reverse_num * 10 + a\n",
    "    num =num//10  # To get Quotient\n",
    "\n",
    "print(f\"Reversed Number: {reverse_num }\" )"
   ]
  },
  {
   "cell_type": "markdown",
   "id": "22628e63",
   "metadata": {},
   "source": [
    "statement 3: Check if number is prime"
   ]
  },
  {
   "cell_type": "code",
   "execution_count": 44,
   "id": "13bed0f2",
   "metadata": {},
   "outputs": [
    {
     "name": "stdout",
     "output_type": "stream",
     "text": [
      "Enter the number : 10\n",
      "Not prime\n"
     ]
    }
   ],
   "source": [
    "def prime(n):\n",
    "        if(n==1):\n",
    "            print(\"Neither prime nor composite \")\n",
    "        elif(n==2):\n",
    "            print(\"Only even prime number \")\n",
    "        else:\n",
    "            for i in range(2,n):     \n",
    "                if(n % i==0):    #Checking if n(inputed number ) is divisible by any number (i) ranging from 2 to that number itself \n",
    "                \n",
    "                    print(\"Not prime\")\n",
    "                    break;\n",
    "                else:\n",
    "                    print(\" prime\")\n",
    "                    break;\n",
    "n=int(input(\"Enter the number : \"))\n",
    "prime(n)\n"
   ]
  },
  {
   "cell_type": "markdown",
   "id": "aff8c601",
   "metadata": {},
   "source": [
    "staement 4 : Write a program to check if the given number is a palindrome number. "
   ]
  },
  {
   "cell_type": "code",
   "execution_count": 50,
   "id": "a5dbd401",
   "metadata": {},
   "outputs": [
    {
     "name": "stdout",
     "output_type": "stream",
     "text": [
      "Enter the number : 67\n",
      "Not a Palindrome Number\n"
     ]
    }
   ],
   "source": [
    "num = int(input(\"Enter the number : \"))  #Taking original number as an input \n",
    "reverse_num = 0   # Set reversed number initially at 0\n",
    "num1=num\n",
    "while num > 0:    \n",
    "    a = num % 10   # For getting remainder\n",
    "    reverse_num = reverse_num * 10 + a\n",
    "    num =num//10  # To get Quotient\n",
    "\n",
    "#print(f\"Reversed Number: {reverse_num }\" )\n",
    "if(num1==reverse_num):\n",
    "    print(\"Palindrome Number\")\n",
    "else:\n",
    "    print(\"Not a Palindrome Number\")"
   ]
  },
  {
   "cell_type": "code",
   "execution_count": null,
   "id": "265f30e2",
   "metadata": {},
   "outputs": [],
   "source": []
  }
 ],
 "metadata": {
  "kernelspec": {
   "display_name": "Python 3 (ipykernel)",
   "language": "python",
   "name": "python3"
  },
  "language_info": {
   "codemirror_mode": {
    "name": "ipython",
    "version": 3
   },
   "file_extension": ".py",
   "mimetype": "text/x-python",
   "name": "python",
   "nbconvert_exporter": "python",
   "pygments_lexer": "ipython3",
   "version": "3.9.12"
  }
 },
 "nbformat": 4,
 "nbformat_minor": 5
}

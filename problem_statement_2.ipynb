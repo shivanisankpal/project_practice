{
 "cells": [
  {
   "cell_type": "code",
   "execution_count": 1,
   "id": "f5333b51",
   "metadata": {},
   "outputs": [
    {
     "name": "stdout",
     "output_type": "stream",
     "text": [
      "Enter number of elements in lst1 : 3\n",
      "enter elements in lst1\n",
      "1\n",
      "2\n",
      "3\n",
      "['1', '2', '3']\n",
      "Enter number of elements in lst2 : 3\n",
      "enter elements in lst2\n",
      "1\n",
      "2\n",
      "3\n",
      "['1', '2', '3']\n",
      "['11', '22', '33']\n"
     ]
    }
   ],
   "source": [
    "#statement 1\n",
    "lst1 = []\n",
    "lst2 = []\n",
    "  \n",
    "# number of elements as input\n",
    "n1 = int(input(\"Enter number of elements in lst1 : \"))\n",
    "print(\"enter elements in lst1\")\n",
    "for i in range(0, n1):\n",
    "    ele = input()\n",
    "  \n",
    "    lst1.append(ele) # adding the element\n",
    "      \n",
    "print(lst1)\n",
    "\n",
    "n2 = int(input(\"Enter number of elements in lst2 : \"))\n",
    "print(\"enter elements in lst2\")\n",
    "\n",
    "for j in range(0, n2):\n",
    "    ele = input()\n",
    "  \n",
    "    lst2.append(ele) # adding the element\n",
    "      \n",
    "print(lst2)\n",
    "\n",
    "''''list1 = [\"M\", \"na\", \"i\", \"Ke\"] \n",
    "list2 = [\"y\", \"me\", \"s\", \"lly\"]'''\n",
    "list3 = [k + l for k, l in zip(lst1, lst2)]\n",
    "print(list3)"
   ]
  },
  {
   "cell_type": "code",
   "execution_count": 2,
   "id": "e658c587",
   "metadata": {},
   "outputs": [
    {
     "name": "stdout",
     "output_type": "stream",
     "text": [
      "Enter the number of elements in list3\n",
      "enter elements in list\n",
      "1\n",
      "2\n",
      "3\n",
      "[1, 4, 9]\n"
     ]
    }
   ],
   "source": [
    "#statement 2\n",
    "list1 = []\n",
    "n=int(input(\"Enter the number of elements in list\"))\n",
    "print(\"enter elements in list\")\n",
    "for i in range(0,n):\n",
    "    ele = int(input())\n",
    "    list1.append(ele)\n",
    "    \n",
    "# result list\n",
    "square_result = []\n",
    "for i in list1:\n",
    "    # calculate square and add to the result list\n",
    "    square_result.append(i * i)\n",
    "print(square_result)"
   ]
  },
  {
   "cell_type": "code",
   "execution_count": 12,
   "id": "f7c375c9",
   "metadata": {},
   "outputs": [
    {
     "name": "stdout",
     "output_type": "stream",
     "text": [
      "Enter the number of elements in list6\n",
      "enter elements in list\n",
      "1\n",
      "1\n",
      "1\n",
      "2\n",
      "2\n",
      "3\n",
      "{1: 3, 2: 2, 3: 1}\n"
     ]
    }
   ],
   "source": [
    "#statement 3\n",
    "def freqcount(list1):\n",
    "    freq = {}\n",
    "    for i in list1:\n",
    "        if (i in freq):\n",
    "            freq[i] += 1\n",
    "        else:\n",
    "            freq[i] = 1\n",
    "    print(freq) \n",
    "    \n",
    "list1 = []\n",
    "n=int(input(\"Enter the number of elements in list\"))\n",
    "print(\"enter elements in list\")\n",
    "for i in range(0,n):\n",
    "    ele = int(input())\n",
    "    list1.append(ele)\n",
    "freqcount(list1)\n",
    "    "
   ]
  },
  {
   "cell_type": "code",
   "execution_count": 14,
   "id": "e43943c2",
   "metadata": {},
   "outputs": [
    {
     "name": "stdout",
     "output_type": "stream",
     "text": [
      "Yes\n"
     ]
    }
   ],
   "source": [
    "#statement 4\n",
    "\n",
    "# Function to Check whether a given string is Heterogram or not\n",
    "\n",
    "def heterogram(input):\n",
    "\n",
    "\t# separate out list of alphabets using list comprehension\n",
    "\t# ord function returns ascii value of character\n",
    "\talphabets = [ ch for ch in input if ( ord(ch) >= ord('a') and ord(ch) <= ord('z') )]\n",
    "\n",
    "\t# convert list of alphabets into set and\n",
    "\t# compare lengths\n",
    "\tif len(set(alphabets))==len(alphabets):\n",
    "\t\tprint ('Yes')\n",
    "\telse:\n",
    "\t\tprint ('No')\n",
    "\n",
    "# Driver program\n",
    "if __name__ == \"__main__\":\n",
    "\tinput = 'the big dwarf only jumps'\n",
    "\theterogram(input)\n"
   ]
  }
 ],
 "metadata": {
  "kernelspec": {
   "display_name": "Python 3 (ipykernel)",
   "language": "python",
   "name": "python3"
  },
  "language_info": {
   "codemirror_mode": {
    "name": "ipython",
    "version": 3
   },
   "file_extension": ".py",
   "mimetype": "text/x-python",
   "name": "python",
   "nbconvert_exporter": "python",
   "pygments_lexer": "ipython3",
   "version": "3.9.12"
  }
 },
 "nbformat": 4,
 "nbformat_minor": 5
}

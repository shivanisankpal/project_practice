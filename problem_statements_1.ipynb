{
 "cells": [
  {
   "cell_type": "code",
   "execution_count": 2,
   "id": "b0e99a3a",
   "metadata": {},
   "outputs": [
    {
     "name": "stdout",
     "output_type": "stream",
     "text": [
      "Enter the principle value : 3000\n",
      "Enter the time period : 7\n",
      "Enter the rate : 1\n",
      "Your simple interest is : 210.0\n"
     ]
    }
   ],
   "source": [
    "#Statement 1\n",
    "p = int(input(\"Enter the principle value : \"))\n",
    "t = int(input(\"Enter the time period : \"))\n",
    "r = int(input(\"Enter the rate : \"))\n",
    "\n",
    "s = (p*t*r)/100\n",
    "print(f\"Your simple interest is : {s}\")"
   ]
  },
  {
   "cell_type": "code",
   "execution_count": 7,
   "id": "081e375d",
   "metadata": {},
   "outputs": [
    {
     "name": "stdout",
     "output_type": "stream",
     "text": [
      " Enter priciple amount : 1200\n",
      "Enter the time period : 2\n",
      "Enter the rate : 5.4\n",
      "Your compound interest is : 133.0992000000001\n"
     ]
    }
   ],
   "source": [
    "#Statement 2\n",
    "\n",
    "p = float(input(\" Enter priciple amount : \"))\n",
    "t = float(input(\"Enter the time period : \"))\n",
    "r = float(input(\"Enter the rate : \"))\n",
    "\n",
    "a = p*(pow((1+(r/100)),t))\n",
    "c=a-p\n",
    "print(f\"Your compound interest is : {c}\")\n"
   ]
  },
  {
   "cell_type": "code",
   "execution_count": 8,
   "id": "3fd59737",
   "metadata": {},
   "outputs": [
    {
     "name": "stdout",
     "output_type": "stream",
     "text": [
      "[10, 20, 4]\n",
      "20\n",
      "[10, 4, 100, 20]\n",
      "100\n"
     ]
    }
   ],
   "source": [
    "#Statement 3\n",
    "arr1 = {10,20,4}\n",
    "l1 = list(arr1)\n",
    "print(l1)\n",
    "print(max(l1))\n",
    "\n",
    "arr2 = {20,10,20,4,100}\n",
    "l2=list(arr2)\n",
    "print(l2)\n",
    "print(max(l2))\n"
   ]
  },
  {
   "cell_type": "code",
   "execution_count": 9,
   "id": "ce6cef73",
   "metadata": {},
   "outputs": [
    {
     "name": "stdout",
     "output_type": "stream",
     "text": [
      "{'s', 'x', 't', 'e'}\n"
     ]
    }
   ],
   "source": [
    "string = \"testtext\"\n",
    "s = set(string)\n",
    "print(s)"
   ]
  },
  {
   "cell_type": "code",
   "execution_count": null,
   "id": "a499583a",
   "metadata": {},
   "outputs": [],
   "source": []
  }
 ],
 "metadata": {
  "kernelspec": {
   "display_name": "Python 3 (ipykernel)",
   "language": "python",
   "name": "python3"
  },
  "language_info": {
   "codemirror_mode": {
    "name": "ipython",
    "version": 3
   },
   "file_extension": ".py",
   "mimetype": "text/x-python",
   "name": "python",
   "nbconvert_exporter": "python",
   "pygments_lexer": "ipython3",
   "version": "3.9.12"
  }
 },
 "nbformat": 4,
 "nbformat_minor": 5
}

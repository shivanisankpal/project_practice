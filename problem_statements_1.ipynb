{
 "cells": [
  {
   "cell_type": "code",
   "execution_count": 1,
   "metadata": {},
   "outputs": [
    {
     "name": "stdout",
     "output_type": "stream",
     "text": [
      "Enter the principle value : 10\n",
      "Enter the time period : 10\n",
      "Enter the rate : 10\n",
      "Your simple interest is : 10.0\n"
     ]
    }
   ],
   "source": [
    "#Statement 1\n",
    "p = int(input(\"Enter the principle value : \"))\n",
    "t = int(input(\"Enter the time period : \"))\n",
    "r = int(input(\"Enter the rate : \"))\n",
    "\n",
    "s = (p*t*r)/100\n",
    "print(f\"Your simple interest is : {s}\")"
   ]
  },
  {
   "cell_type": "code",
   "execution_count": 2,
   "metadata": {},
   "outputs": [
    {
     "name": "stdout",
     "output_type": "stream",
     "text": [
      " Enter priciple amount : 5\n",
      "Enter the time period : 10\n",
      "Enter the rate : 15\n",
      "Your compound interest is : 15.227788678539532\n"
     ]
    }
   ],
   "source": [
    "#Statement 2\n",
    "\n",
    "p = float(input(\" Enter priciple amount : \"))\n",
    "t = float(input(\"Enter the time period : \"))\n",
    "r = float(input(\"Enter the rate : \"))\n",
    "\n",
    "a = p*(pow((1+(r/100)),t))\n",
    "c=a-p\n",
    "print(f\"Your compound interest is : {c}\")\n"
   ]
  },
  {
   "cell_type": "code",
   "execution_count": 3,
   "metadata": {},
   "outputs": [
    {
     "name": "stdout",
     "output_type": "stream",
     "text": [
      "[10, 20, 4]\n",
      "20\n",
      "[100, 10, 20, 4]\n",
      "100\n"
     ]
    }
   ],
   "source": [
    "#Statement 3\n",
    "arr1 = {10,20,4}\n",
    "l1 = list(arr1)\n",
    "print(l1)\n",
    "print(max(l1))\n",
    "\n",
    "arr2 = {20,10,20,4,100}\n",
    "l2=list(arr2)\n",
    "print(l2)\n",
    "print(max(l2))\n"
   ]
  },
  {
   "cell_type": "code",
   "execution_count": 4,
   "metadata": {},
   "outputs": [
    {
     "name": "stdout",
     "output_type": "stream",
     "text": [
      "{'e', 's', 'x', 't'}\n"
     ]
    }
   ],
   "source": [
    "string = \"testtext\"\n",
    "s = set(string)\n",
    "print(s)"
   ]
  },
  {
   "cell_type": "markdown",
   "metadata": {},
   "source": [
    "### Just try to make these code a bit modular like this"
   ]
  },
  {
   "cell_type": "code",
   "execution_count": 5,
   "metadata": {},
   "outputs": [
    {
     "name": "stdout",
     "output_type": "stream",
     "text": [
      "eginrst\n"
     ]
    }
   ],
   "source": [
    "def remove_duplicates(input_string):\n",
    "    set_string = set(input_string) #convert the given string to set to remove duplicates\n",
    "    #sorted will return a list of sorted string\n",
    "    sorted_string = sorted(set_string) #sort the given set in ascending order \n",
    "    result = ''.join(sorted_string) #join is a inbuild funtion to convert iterables like list set tuple into string\n",
    "    print(result)\n",
    "input_string = \"teststring\"\n",
    "remove_duplicates(input_string)"
   ]
  },
  {
   "cell_type": "code",
   "execution_count": null,
   "metadata": {},
   "outputs": [],
   "source": []
  },
  {
   "cell_type": "code",
   "execution_count": null,
   "metadata": {},
   "outputs": [],
   "source": []
  }
 ],
 "metadata": {
  "kernelspec": {
   "display_name": "Python 3",
   "language": "python",
   "name": "python3"
  },
  "language_info": {
   "codemirror_mode": {
    "name": "ipython",
    "version": 3
   },
   "file_extension": ".py",
   "mimetype": "text/x-python",
   "name": "python",
   "nbconvert_exporter": "python",
   "pygments_lexer": "ipython3",
   "version": "3.8.10"
  }
 },
 "nbformat": 4,
 "nbformat_minor": 5
}
